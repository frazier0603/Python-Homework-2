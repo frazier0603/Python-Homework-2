{
 "cells": [
  {
   "cell_type": "markdown",
   "metadata": {},
   "source": [
    "# HOmework Problem #2 - PyRamen\n",
    "### David Frazier"
   ]
  },
  {
   "cell_type": "markdown",
   "metadata": {},
   "source": [
    "### Data Sets: menu_data.csv and sales_data.csv"
   ]
  },
  {
   "cell_type": "code",
   "execution_count": 7,
   "metadata": {},
   "outputs": [
    {
     "data": {
      "text/html": [
       "<div>\n",
       "<style scoped>\n",
       "    .dataframe tbody tr th:only-of-type {\n",
       "        vertical-align: middle;\n",
       "    }\n",
       "\n",
       "    .dataframe tbody tr th {\n",
       "        vertical-align: top;\n",
       "    }\n",
       "\n",
       "    .dataframe thead th {\n",
       "        text-align: right;\n",
       "    }\n",
       "</style>\n",
       "<table border=\"1\" class=\"dataframe\">\n",
       "  <thead>\n",
       "    <tr style=\"text-align: right;\">\n",
       "      <th></th>\n",
       "      <th>Line_Item_ID</th>\n",
       "      <th>Date</th>\n",
       "      <th>Credit_Card_Number</th>\n",
       "      <th>Quantity</th>\n",
       "      <th>Menu_Item</th>\n",
       "    </tr>\n",
       "  </thead>\n",
       "  <tbody>\n",
       "    <tr>\n",
       "      <th>74119</th>\n",
       "      <td>74120</td>\n",
       "      <td>12/31/2018</td>\n",
       "      <td>1697055332228940</td>\n",
       "      <td>4</td>\n",
       "      <td>tonkotsu ramen</td>\n",
       "    </tr>\n",
       "    <tr>\n",
       "      <th>74120</th>\n",
       "      <td>74121</td>\n",
       "      <td>12/31/2018</td>\n",
       "      <td>6800009643487100</td>\n",
       "      <td>1</td>\n",
       "      <td>vegetarian spicy miso</td>\n",
       "    </tr>\n",
       "    <tr>\n",
       "      <th>74121</th>\n",
       "      <td>74122</td>\n",
       "      <td>12/31/2018</td>\n",
       "      <td>6800009643487100</td>\n",
       "      <td>1</td>\n",
       "      <td>vegetarian spicy miso</td>\n",
       "    </tr>\n",
       "    <tr>\n",
       "      <th>74122</th>\n",
       "      <td>74123</td>\n",
       "      <td>12/31/2018</td>\n",
       "      <td>5981057609583650</td>\n",
       "      <td>2</td>\n",
       "      <td>spicy miso ramen</td>\n",
       "    </tr>\n",
       "    <tr>\n",
       "      <th>74123</th>\n",
       "      <td>74124</td>\n",
       "      <td>12/31/2018</td>\n",
       "      <td>5981057609583650</td>\n",
       "      <td>2</td>\n",
       "      <td>spicy miso ramen</td>\n",
       "    </tr>\n",
       "  </tbody>\n",
       "</table>\n",
       "</div>"
      ],
      "text/plain": [
       "       Line_Item_ID        Date  Credit_Card_Number  Quantity  \\\n",
       "74119         74120  12/31/2018    1697055332228940         4   \n",
       "74120         74121  12/31/2018    6800009643487100         1   \n",
       "74121         74122  12/31/2018    6800009643487100         1   \n",
       "74122         74123  12/31/2018    5981057609583650         2   \n",
       "74123         74124  12/31/2018    5981057609583650         2   \n",
       "\n",
       "                   Menu_Item  \n",
       "74119         tonkotsu ramen  \n",
       "74120  vegetarian spicy miso  \n",
       "74121  vegetarian spicy miso  \n",
       "74122       spicy miso ramen  \n",
       "74123       spicy miso ramen  "
      ]
     },
     "execution_count": 7,
     "metadata": {},
     "output_type": "execute_result"
    }
   ],
   "source": [
    "## Read in the PyBank Dataset\n",
    "# Import the pandas library\n",
    "# Read the data in as a data frame\n",
    "\n",
    "import pandas as pd\n",
    "from pathlib import Path\n",
    "\n",
    "menu_df = pd.read_csv('C:/FinTech/menu_data.csv')  # Read the dataset in as a pandas data frame\n",
    "menu_df.head()                                       # print the first 5 rows of the data frame\n",
    "menu_df.sample()                                     # print a 5 row sample of the data frame\n",
    "menu_df.tail()                                       # print the borrom 5 rows of the data frame\n",
    "\n",
    "sales_df = pd.read_csv('C:/FinTech/sales_data.csv')  # Read the dataset in as a pandas data frame\n",
    "sales_df.head()\n",
    "sales_df.tail()\n"
   ]
  },
  {
   "cell_type": "code",
   "execution_count": 28,
   "metadata": {},
   "outputs": [
    {
     "data": {
      "text/plain": [
       "Line_Item_ID                     74124\n",
       "Credit_Card_Number    5981057609583650\n",
       "Quantity                             2\n",
       "Menu_Item             spicy miso ramen\n",
       "Name: 2018-12-31 00:00:00, dtype: object"
      ]
     },
     "execution_count": 28,
     "metadata": {},
     "output_type": "execute_result"
    }
   ],
   "source": [
    "import pandas as pd\n",
    "from pathlib import Path\n",
    "\n",
    "\n",
    "# Set the file path\n",
    "file_path = Path(\"C:/FinTech/sales_data.csv\")       # Set the sales object\n",
    "sales_list = []                                      # initialize the empty sales list\n",
    "line_num = []                                        # initialize the empty line number list\n",
    "\n",
    "# Read the CSVs and set the `date` column as a datetime index to the DataFrame\n",
    "sales_df = pd.read_csv(file_path, index_col=\"Date\", infer_datetime_format=True, parse_dates=True)\n",
    "sales_df.head()\n",
    "sales_df[\"Quantity\"] = sales_df[\"Quantity\"].astype('int')  # cast quantity as integer\n",
    "sales_df[\"Quantity\"].dtype                                 # check the data type for Quantity as integer\n",
    "sales_df.describe(include='all')                                   # view summary statistics for numeric data\n",
    "\n",
    "# Select the first-10 rows of the sales dataframe\n",
    "sales_df.iloc[0:10].head() \n",
    "sales_df.iloc[-1]     # selsect the last row of the data frome\n"
   ]
  },
  {
   "cell_type": "code",
   "execution_count": null,
   "metadata": {},
   "outputs": [],
   "source": []
  }
 ],
 "metadata": {
  "kernelspec": {
   "display_name": "Python 3",
   "language": "python",
   "name": "python3"
  },
  "language_info": {
   "codemirror_mode": {
    "name": "ipython",
    "version": 3
   },
   "file_extension": ".py",
   "mimetype": "text/x-python",
   "name": "python",
   "nbconvert_exporter": "python",
   "pygments_lexer": "ipython3",
   "version": "3.7.4"
  }
 },
 "nbformat": 4,
 "nbformat_minor": 4
}
